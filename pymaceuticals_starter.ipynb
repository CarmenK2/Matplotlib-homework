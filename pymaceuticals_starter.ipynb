{
 "cells": [
  {
   "cell_type": "markdown",
   "metadata": {},
   "source": [
    "## Observations and Insights "
   ]
  },
  {
   "cell_type": "markdown",
   "metadata": {},
   "source": []
  },
  {
   "cell_type": "code",
   "execution_count": 70,
   "metadata": {},
   "outputs": [
    {
     "data": {
      "text/html": [
       "<div>\n",
       "<style scoped>\n",
       "    .dataframe tbody tr th:only-of-type {\n",
       "        vertical-align: middle;\n",
       "    }\n",
       "\n",
       "    .dataframe tbody tr th {\n",
       "        vertical-align: top;\n",
       "    }\n",
       "\n",
       "    .dataframe thead th {\n",
       "        text-align: right;\n",
       "    }\n",
       "</style>\n",
       "<table border=\"1\" class=\"dataframe\">\n",
       "  <thead>\n",
       "    <tr style=\"text-align: right;\">\n",
       "      <th></th>\n",
       "      <th>Mouse ID</th>\n",
       "      <th>Drug Regimen</th>\n",
       "      <th>Sex</th>\n",
       "      <th>Age_months</th>\n",
       "      <th>Weight (g)</th>\n",
       "      <th>Timepoint</th>\n",
       "      <th>Tumor Volume (mm3)</th>\n",
       "      <th>Metastatic Sites</th>\n",
       "    </tr>\n",
       "  </thead>\n",
       "  <tbody>\n",
       "    <tr>\n",
       "      <th>0</th>\n",
       "      <td>k403</td>\n",
       "      <td>Ramicane</td>\n",
       "      <td>Male</td>\n",
       "      <td>21</td>\n",
       "      <td>16</td>\n",
       "      <td>0</td>\n",
       "      <td>45.000000</td>\n",
       "      <td>0</td>\n",
       "    </tr>\n",
       "    <tr>\n",
       "      <th>1</th>\n",
       "      <td>k403</td>\n",
       "      <td>Ramicane</td>\n",
       "      <td>Male</td>\n",
       "      <td>21</td>\n",
       "      <td>16</td>\n",
       "      <td>5</td>\n",
       "      <td>38.825898</td>\n",
       "      <td>0</td>\n",
       "    </tr>\n",
       "    <tr>\n",
       "      <th>2</th>\n",
       "      <td>k403</td>\n",
       "      <td>Ramicane</td>\n",
       "      <td>Male</td>\n",
       "      <td>21</td>\n",
       "      <td>16</td>\n",
       "      <td>10</td>\n",
       "      <td>35.014271</td>\n",
       "      <td>1</td>\n",
       "    </tr>\n",
       "    <tr>\n",
       "      <th>3</th>\n",
       "      <td>k403</td>\n",
       "      <td>Ramicane</td>\n",
       "      <td>Male</td>\n",
       "      <td>21</td>\n",
       "      <td>16</td>\n",
       "      <td>15</td>\n",
       "      <td>34.223992</td>\n",
       "      <td>1</td>\n",
       "    </tr>\n",
       "    <tr>\n",
       "      <th>4</th>\n",
       "      <td>k403</td>\n",
       "      <td>Ramicane</td>\n",
       "      <td>Male</td>\n",
       "      <td>21</td>\n",
       "      <td>16</td>\n",
       "      <td>20</td>\n",
       "      <td>32.997729</td>\n",
       "      <td>1</td>\n",
       "    </tr>\n",
       "  </tbody>\n",
       "</table>\n",
       "</div>"
      ],
      "text/plain": [
       "  Mouse ID Drug Regimen   Sex  Age_months  Weight (g)  Timepoint  \\\n",
       "0     k403     Ramicane  Male          21          16          0   \n",
       "1     k403     Ramicane  Male          21          16          5   \n",
       "2     k403     Ramicane  Male          21          16         10   \n",
       "3     k403     Ramicane  Male          21          16         15   \n",
       "4     k403     Ramicane  Male          21          16         20   \n",
       "\n",
       "   Tumor Volume (mm3)  Metastatic Sites  \n",
       "0           45.000000                 0  \n",
       "1           38.825898                 0  \n",
       "2           35.014271                 1  \n",
       "3           34.223992                 1  \n",
       "4           32.997729                 1  "
      ]
     },
     "execution_count": 70,
     "metadata": {},
     "output_type": "execute_result"
    }
   ],
   "source": [
    "# Dependencies and Setup\n",
    "import matplotlib.pyplot as plt\n",
    "import pandas as pd\n",
    "import scipy.stats as st\n",
    "\n",
    "# Study data files\n",
    "mouse_metadata_path = \"Resource/Mouse_metadata.csv\"\n",
    "study_results_path = \"Resource/Study_results.csv\"\n",
    "\n",
    "# Read the mouse data and the study results\n",
    "mouse_metadata = pd.read_csv(mouse_metadata_path)\n",
    "study_results = pd.read_csv(study_results_path)\n",
    "\n",
    "# Combine the data into a single dataset\n",
    "Trial_data_complete = pd.merge(mouse_metadata, study_results, how=\"left\", on=[\"Mouse ID\", \"Mouse ID\"])\n",
    "\n",
    "# Display the data table for preview\n",
    "Trial_data_complete_df = Trial_data_complete\n",
    "Trial_data_complete_df.head()\n",
    "\n"
   ]
  },
  {
   "cell_type": "code",
   "execution_count": 71,
   "metadata": {},
   "outputs": [
    {
     "data": {
      "text/plain": [
       "249"
      ]
     },
     "execution_count": 71,
     "metadata": {},
     "output_type": "execute_result"
    }
   ],
   "source": [
    "# Checking the number of mice.\n",
    "No_of_mouse = len(Trial_data_complete_df[\"Mouse ID\"].unique())\n",
    "No_of_mouse\n",
    "\n"
   ]
  },
  {
   "cell_type": "code",
   "execution_count": 72,
   "metadata": {},
   "outputs": [
    {
     "data": {
      "text/html": [
       "<div>\n",
       "<style scoped>\n",
       "    .dataframe tbody tr th:only-of-type {\n",
       "        vertical-align: middle;\n",
       "    }\n",
       "\n",
       "    .dataframe tbody tr th {\n",
       "        vertical-align: top;\n",
       "    }\n",
       "\n",
       "    .dataframe thead th {\n",
       "        text-align: right;\n",
       "    }\n",
       "</style>\n",
       "<table border=\"1\" class=\"dataframe\">\n",
       "  <thead>\n",
       "    <tr style=\"text-align: right;\">\n",
       "      <th></th>\n",
       "      <th>MouseID</th>\n",
       "      <th>Drug Regimen</th>\n",
       "      <th>Sex</th>\n",
       "      <th>Age_months</th>\n",
       "      <th>Weight (g)</th>\n",
       "      <th>Timepoint</th>\n",
       "      <th>Tumor Volume (mm3)</th>\n",
       "      <th>Metastatic Sites</th>\n",
       "    </tr>\n",
       "  </thead>\n",
       "  <tbody>\n",
       "    <tr>\n",
       "      <th>0</th>\n",
       "      <td>k403</td>\n",
       "      <td>Ramicane</td>\n",
       "      <td>Male</td>\n",
       "      <td>21</td>\n",
       "      <td>16</td>\n",
       "      <td>0</td>\n",
       "      <td>45.000000</td>\n",
       "      <td>0</td>\n",
       "    </tr>\n",
       "    <tr>\n",
       "      <th>1</th>\n",
       "      <td>k403</td>\n",
       "      <td>Ramicane</td>\n",
       "      <td>Male</td>\n",
       "      <td>21</td>\n",
       "      <td>16</td>\n",
       "      <td>5</td>\n",
       "      <td>38.825898</td>\n",
       "      <td>0</td>\n",
       "    </tr>\n",
       "    <tr>\n",
       "      <th>2</th>\n",
       "      <td>k403</td>\n",
       "      <td>Ramicane</td>\n",
       "      <td>Male</td>\n",
       "      <td>21</td>\n",
       "      <td>16</td>\n",
       "      <td>10</td>\n",
       "      <td>35.014271</td>\n",
       "      <td>1</td>\n",
       "    </tr>\n",
       "    <tr>\n",
       "      <th>3</th>\n",
       "      <td>k403</td>\n",
       "      <td>Ramicane</td>\n",
       "      <td>Male</td>\n",
       "      <td>21</td>\n",
       "      <td>16</td>\n",
       "      <td>15</td>\n",
       "      <td>34.223992</td>\n",
       "      <td>1</td>\n",
       "    </tr>\n",
       "    <tr>\n",
       "      <th>4</th>\n",
       "      <td>k403</td>\n",
       "      <td>Ramicane</td>\n",
       "      <td>Male</td>\n",
       "      <td>21</td>\n",
       "      <td>16</td>\n",
       "      <td>20</td>\n",
       "      <td>32.997729</td>\n",
       "      <td>1</td>\n",
       "    </tr>\n",
       "    <tr>\n",
       "      <th>...</th>\n",
       "      <td>...</td>\n",
       "      <td>...</td>\n",
       "      <td>...</td>\n",
       "      <td>...</td>\n",
       "      <td>...</td>\n",
       "      <td>...</td>\n",
       "      <td>...</td>\n",
       "      <td>...</td>\n",
       "    </tr>\n",
       "    <tr>\n",
       "      <th>1888</th>\n",
       "      <td>z969</td>\n",
       "      <td>Naftisol</td>\n",
       "      <td>Male</td>\n",
       "      <td>9</td>\n",
       "      <td>30</td>\n",
       "      <td>25</td>\n",
       "      <td>63.145652</td>\n",
       "      <td>2</td>\n",
       "    </tr>\n",
       "    <tr>\n",
       "      <th>1889</th>\n",
       "      <td>z969</td>\n",
       "      <td>Naftisol</td>\n",
       "      <td>Male</td>\n",
       "      <td>9</td>\n",
       "      <td>30</td>\n",
       "      <td>30</td>\n",
       "      <td>65.841013</td>\n",
       "      <td>3</td>\n",
       "    </tr>\n",
       "    <tr>\n",
       "      <th>1890</th>\n",
       "      <td>z969</td>\n",
       "      <td>Naftisol</td>\n",
       "      <td>Male</td>\n",
       "      <td>9</td>\n",
       "      <td>30</td>\n",
       "      <td>35</td>\n",
       "      <td>69.176246</td>\n",
       "      <td>4</td>\n",
       "    </tr>\n",
       "    <tr>\n",
       "      <th>1891</th>\n",
       "      <td>z969</td>\n",
       "      <td>Naftisol</td>\n",
       "      <td>Male</td>\n",
       "      <td>9</td>\n",
       "      <td>30</td>\n",
       "      <td>40</td>\n",
       "      <td>70.314904</td>\n",
       "      <td>4</td>\n",
       "    </tr>\n",
       "    <tr>\n",
       "      <th>1892</th>\n",
       "      <td>z969</td>\n",
       "      <td>Naftisol</td>\n",
       "      <td>Male</td>\n",
       "      <td>9</td>\n",
       "      <td>30</td>\n",
       "      <td>45</td>\n",
       "      <td>73.867845</td>\n",
       "      <td>4</td>\n",
       "    </tr>\n",
       "  </tbody>\n",
       "</table>\n",
       "<p>1893 rows × 8 columns</p>\n",
       "</div>"
      ],
      "text/plain": [
       "     MouseID Drug Regimen   Sex  Age_months  Weight (g)  Timepoint  \\\n",
       "0       k403     Ramicane  Male          21          16          0   \n",
       "1       k403     Ramicane  Male          21          16          5   \n",
       "2       k403     Ramicane  Male          21          16         10   \n",
       "3       k403     Ramicane  Male          21          16         15   \n",
       "4       k403     Ramicane  Male          21          16         20   \n",
       "...      ...          ...   ...         ...         ...        ...   \n",
       "1888    z969     Naftisol  Male           9          30         25   \n",
       "1889    z969     Naftisol  Male           9          30         30   \n",
       "1890    z969     Naftisol  Male           9          30         35   \n",
       "1891    z969     Naftisol  Male           9          30         40   \n",
       "1892    z969     Naftisol  Male           9          30         45   \n",
       "\n",
       "      Tumor Volume (mm3)  Metastatic Sites  \n",
       "0              45.000000                 0  \n",
       "1              38.825898                 0  \n",
       "2              35.014271                 1  \n",
       "3              34.223992                 1  \n",
       "4              32.997729                 1  \n",
       "...                  ...               ...  \n",
       "1888           63.145652                 2  \n",
       "1889           65.841013                 3  \n",
       "1890           69.176246                 4  \n",
       "1891           70.314904                 4  \n",
       "1892           73.867845                 4  \n",
       "\n",
       "[1893 rows x 8 columns]"
      ]
     },
     "execution_count": 72,
     "metadata": {},
     "output_type": "execute_result"
    }
   ],
   "source": [
    "#Rename the column Name for Mouse ID to MouseID\n",
    "Trial_data_complete_renamed_df = Trial_data_complete_df.rename(columns={\"Mouse ID\":\"MouseID\"})\n",
    "Trial_data_complete_renamed_df"
   ]
  },
  {
   "cell_type": "code",
   "execution_count": 73,
   "metadata": {},
   "outputs": [
    {
     "data": {
      "text/html": [
       "<div>\n",
       "<style scoped>\n",
       "    .dataframe tbody tr th:only-of-type {\n",
       "        vertical-align: middle;\n",
       "    }\n",
       "\n",
       "    .dataframe tbody tr th {\n",
       "        vertical-align: top;\n",
       "    }\n",
       "\n",
       "    .dataframe thead th {\n",
       "        text-align: right;\n",
       "    }\n",
       "</style>\n",
       "<table border=\"1\" class=\"dataframe\">\n",
       "  <thead>\n",
       "    <tr style=\"text-align: right;\">\n",
       "      <th></th>\n",
       "      <th>MouseID</th>\n",
       "      <th>Drug Regimen</th>\n",
       "      <th>Sex</th>\n",
       "      <th>Age_months</th>\n",
       "      <th>Weight (g)</th>\n",
       "      <th>Timepoint</th>\n",
       "      <th>Tumor Volume (mm3)</th>\n",
       "      <th>Metastatic Sites</th>\n",
       "      <th>MouseID_Timepoint</th>\n",
       "    </tr>\n",
       "  </thead>\n",
       "  <tbody>\n",
       "    <tr>\n",
       "      <th>0</th>\n",
       "      <td>k403</td>\n",
       "      <td>Ramicane</td>\n",
       "      <td>Male</td>\n",
       "      <td>21</td>\n",
       "      <td>16</td>\n",
       "      <td>0</td>\n",
       "      <td>45.000000</td>\n",
       "      <td>0</td>\n",
       "      <td>k403-0</td>\n",
       "    </tr>\n",
       "    <tr>\n",
       "      <th>1</th>\n",
       "      <td>k403</td>\n",
       "      <td>Ramicane</td>\n",
       "      <td>Male</td>\n",
       "      <td>21</td>\n",
       "      <td>16</td>\n",
       "      <td>5</td>\n",
       "      <td>38.825898</td>\n",
       "      <td>0</td>\n",
       "      <td>k403-5</td>\n",
       "    </tr>\n",
       "    <tr>\n",
       "      <th>2</th>\n",
       "      <td>k403</td>\n",
       "      <td>Ramicane</td>\n",
       "      <td>Male</td>\n",
       "      <td>21</td>\n",
       "      <td>16</td>\n",
       "      <td>10</td>\n",
       "      <td>35.014271</td>\n",
       "      <td>1</td>\n",
       "      <td>k403-10</td>\n",
       "    </tr>\n",
       "    <tr>\n",
       "      <th>3</th>\n",
       "      <td>k403</td>\n",
       "      <td>Ramicane</td>\n",
       "      <td>Male</td>\n",
       "      <td>21</td>\n",
       "      <td>16</td>\n",
       "      <td>15</td>\n",
       "      <td>34.223992</td>\n",
       "      <td>1</td>\n",
       "      <td>k403-15</td>\n",
       "    </tr>\n",
       "    <tr>\n",
       "      <th>4</th>\n",
       "      <td>k403</td>\n",
       "      <td>Ramicane</td>\n",
       "      <td>Male</td>\n",
       "      <td>21</td>\n",
       "      <td>16</td>\n",
       "      <td>20</td>\n",
       "      <td>32.997729</td>\n",
       "      <td>1</td>\n",
       "      <td>k403-20</td>\n",
       "    </tr>\n",
       "    <tr>\n",
       "      <th>...</th>\n",
       "      <td>...</td>\n",
       "      <td>...</td>\n",
       "      <td>...</td>\n",
       "      <td>...</td>\n",
       "      <td>...</td>\n",
       "      <td>...</td>\n",
       "      <td>...</td>\n",
       "      <td>...</td>\n",
       "      <td>...</td>\n",
       "    </tr>\n",
       "    <tr>\n",
       "      <th>1888</th>\n",
       "      <td>z969</td>\n",
       "      <td>Naftisol</td>\n",
       "      <td>Male</td>\n",
       "      <td>9</td>\n",
       "      <td>30</td>\n",
       "      <td>25</td>\n",
       "      <td>63.145652</td>\n",
       "      <td>2</td>\n",
       "      <td>z969-25</td>\n",
       "    </tr>\n",
       "    <tr>\n",
       "      <th>1889</th>\n",
       "      <td>z969</td>\n",
       "      <td>Naftisol</td>\n",
       "      <td>Male</td>\n",
       "      <td>9</td>\n",
       "      <td>30</td>\n",
       "      <td>30</td>\n",
       "      <td>65.841013</td>\n",
       "      <td>3</td>\n",
       "      <td>z969-30</td>\n",
       "    </tr>\n",
       "    <tr>\n",
       "      <th>1890</th>\n",
       "      <td>z969</td>\n",
       "      <td>Naftisol</td>\n",
       "      <td>Male</td>\n",
       "      <td>9</td>\n",
       "      <td>30</td>\n",
       "      <td>35</td>\n",
       "      <td>69.176246</td>\n",
       "      <td>4</td>\n",
       "      <td>z969-35</td>\n",
       "    </tr>\n",
       "    <tr>\n",
       "      <th>1891</th>\n",
       "      <td>z969</td>\n",
       "      <td>Naftisol</td>\n",
       "      <td>Male</td>\n",
       "      <td>9</td>\n",
       "      <td>30</td>\n",
       "      <td>40</td>\n",
       "      <td>70.314904</td>\n",
       "      <td>4</td>\n",
       "      <td>z969-40</td>\n",
       "    </tr>\n",
       "    <tr>\n",
       "      <th>1892</th>\n",
       "      <td>z969</td>\n",
       "      <td>Naftisol</td>\n",
       "      <td>Male</td>\n",
       "      <td>9</td>\n",
       "      <td>30</td>\n",
       "      <td>45</td>\n",
       "      <td>73.867845</td>\n",
       "      <td>4</td>\n",
       "      <td>z969-45</td>\n",
       "    </tr>\n",
       "  </tbody>\n",
       "</table>\n",
       "<p>1893 rows × 9 columns</p>\n",
       "</div>"
      ],
      "text/plain": [
       "     MouseID Drug Regimen   Sex  Age_months  Weight (g)  Timepoint  \\\n",
       "0       k403     Ramicane  Male          21          16          0   \n",
       "1       k403     Ramicane  Male          21          16          5   \n",
       "2       k403     Ramicane  Male          21          16         10   \n",
       "3       k403     Ramicane  Male          21          16         15   \n",
       "4       k403     Ramicane  Male          21          16         20   \n",
       "...      ...          ...   ...         ...         ...        ...   \n",
       "1888    z969     Naftisol  Male           9          30         25   \n",
       "1889    z969     Naftisol  Male           9          30         30   \n",
       "1890    z969     Naftisol  Male           9          30         35   \n",
       "1891    z969     Naftisol  Male           9          30         40   \n",
       "1892    z969     Naftisol  Male           9          30         45   \n",
       "\n",
       "      Tumor Volume (mm3)  Metastatic Sites MouseID_Timepoint  \n",
       "0              45.000000                 0            k403-0  \n",
       "1              38.825898                 0            k403-5  \n",
       "2              35.014271                 1           k403-10  \n",
       "3              34.223992                 1           k403-15  \n",
       "4              32.997729                 1           k403-20  \n",
       "...                  ...               ...               ...  \n",
       "1888           63.145652                 2           z969-25  \n",
       "1889           65.841013                 3           z969-30  \n",
       "1890           69.176246                 4           z969-35  \n",
       "1891           70.314904                 4           z969-40  \n",
       "1892           73.867845                 4           z969-45  \n",
       "\n",
       "[1893 rows x 9 columns]"
      ]
     },
     "execution_count": 73,
     "metadata": {},
     "output_type": "execute_result"
    }
   ],
   "source": [
    "# Getting the duplicate mice by ID number that shows up for Mouse ID and Timepoint. \n",
    "# Inserting a new column by concat Mouse ID and timepoint to identify any duplicated data (search from Youtube)\n",
    "Trial_data_complete_renamed_df[\"MouseID_Timepoint\"] = Trial_data_complete_renamed_df[\"MouseID\"] + '-' + Trial_data_complete_renamed_df[\"Timepoint\"].astype(str)\n",
    "Trial_data_complete_renamed_df"
   ]
  },
  {
   "cell_type": "code",
   "execution_count": 74,
   "metadata": {},
   "outputs": [],
   "source": [
    "#Save the rename df to a variable\n",
    "Trial_data_complete_rename =Trial_data_complete_renamed_df"
   ]
  },
  {
   "cell_type": "code",
   "execution_count": 75,
   "metadata": {},
   "outputs": [
    {
     "data": {
      "text/plain": [
       "5"
      ]
     },
     "execution_count": 75,
     "metadata": {},
     "output_type": "execute_result"
    }
   ],
   "source": [
    "#Find out how many duplicated data for the same MouseID and same Timepoint (search from youtube)\n",
    "Trial_data_complete_renamed_df[\"MouseID_Timepoint\"].duplicated().sum()"
   ]
  },
  {
   "cell_type": "code",
   "execution_count": 76,
   "metadata": {},
   "outputs": [
    {
     "data": {
      "text/html": [
       "<div>\n",
       "<style scoped>\n",
       "    .dataframe tbody tr th:only-of-type {\n",
       "        vertical-align: middle;\n",
       "    }\n",
       "\n",
       "    .dataframe tbody tr th {\n",
       "        vertical-align: top;\n",
       "    }\n",
       "\n",
       "    .dataframe thead th {\n",
       "        text-align: right;\n",
       "    }\n",
       "</style>\n",
       "<table border=\"1\" class=\"dataframe\">\n",
       "  <thead>\n",
       "    <tr style=\"text-align: right;\">\n",
       "      <th></th>\n",
       "      <th>MouseID</th>\n",
       "      <th>Drug Regimen</th>\n",
       "      <th>Sex</th>\n",
       "      <th>Age_months</th>\n",
       "      <th>Weight (g)</th>\n",
       "      <th>Timepoint</th>\n",
       "      <th>Tumor Volume (mm3)</th>\n",
       "      <th>Metastatic Sites</th>\n",
       "      <th>MouseID_Timepoint</th>\n",
       "    </tr>\n",
       "  </thead>\n",
       "  <tbody>\n",
       "    <tr>\n",
       "      <th>909</th>\n",
       "      <td>g989</td>\n",
       "      <td>Propriva</td>\n",
       "      <td>Female</td>\n",
       "      <td>21</td>\n",
       "      <td>26</td>\n",
       "      <td>0</td>\n",
       "      <td>45.000000</td>\n",
       "      <td>0</td>\n",
       "      <td>g989-0</td>\n",
       "    </tr>\n",
       "    <tr>\n",
       "      <th>911</th>\n",
       "      <td>g989</td>\n",
       "      <td>Propriva</td>\n",
       "      <td>Female</td>\n",
       "      <td>21</td>\n",
       "      <td>26</td>\n",
       "      <td>5</td>\n",
       "      <td>47.570392</td>\n",
       "      <td>0</td>\n",
       "      <td>g989-5</td>\n",
       "    </tr>\n",
       "    <tr>\n",
       "      <th>913</th>\n",
       "      <td>g989</td>\n",
       "      <td>Propriva</td>\n",
       "      <td>Female</td>\n",
       "      <td>21</td>\n",
       "      <td>26</td>\n",
       "      <td>10</td>\n",
       "      <td>49.880528</td>\n",
       "      <td>0</td>\n",
       "      <td>g989-10</td>\n",
       "    </tr>\n",
       "    <tr>\n",
       "      <th>915</th>\n",
       "      <td>g989</td>\n",
       "      <td>Propriva</td>\n",
       "      <td>Female</td>\n",
       "      <td>21</td>\n",
       "      <td>26</td>\n",
       "      <td>15</td>\n",
       "      <td>53.442020</td>\n",
       "      <td>0</td>\n",
       "      <td>g989-15</td>\n",
       "    </tr>\n",
       "    <tr>\n",
       "      <th>917</th>\n",
       "      <td>g989</td>\n",
       "      <td>Propriva</td>\n",
       "      <td>Female</td>\n",
       "      <td>21</td>\n",
       "      <td>26</td>\n",
       "      <td>20</td>\n",
       "      <td>54.657650</td>\n",
       "      <td>1</td>\n",
       "      <td>g989-20</td>\n",
       "    </tr>\n",
       "  </tbody>\n",
       "</table>\n",
       "</div>"
      ],
      "text/plain": [
       "    MouseID Drug Regimen     Sex  Age_months  Weight (g)  Timepoint  \\\n",
       "909    g989     Propriva  Female          21          26          0   \n",
       "911    g989     Propriva  Female          21          26          5   \n",
       "913    g989     Propriva  Female          21          26         10   \n",
       "915    g989     Propriva  Female          21          26         15   \n",
       "917    g989     Propriva  Female          21          26         20   \n",
       "\n",
       "     Tumor Volume (mm3)  Metastatic Sites MouseID_Timepoint  \n",
       "909           45.000000                 0            g989-0  \n",
       "911           47.570392                 0            g989-5  \n",
       "913           49.880528                 0           g989-10  \n",
       "915           53.442020                 0           g989-15  \n",
       "917           54.657650                 1           g989-20  "
      ]
     },
     "execution_count": 76,
     "metadata": {},
     "output_type": "execute_result"
    }
   ],
   "source": [
    "#Call out and print those 5 duplicated data by the column \"MouseID_Timepoint\"\n",
    "#Result show they are related to one particular MouseID\n",
    "Trial_data_complete_rename.loc[Trial_data_complete_renamed_df[\"MouseID_Timepoint\"].duplicated(), :]"
   ]
  },
  {
   "cell_type": "code",
   "execution_count": 77,
   "metadata": {},
   "outputs": [
    {
     "data": {
      "text/html": [
       "<div>\n",
       "<style scoped>\n",
       "    .dataframe tbody tr th:only-of-type {\n",
       "        vertical-align: middle;\n",
       "    }\n",
       "\n",
       "    .dataframe tbody tr th {\n",
       "        vertical-align: top;\n",
       "    }\n",
       "\n",
       "    .dataframe thead th {\n",
       "        text-align: right;\n",
       "    }\n",
       "</style>\n",
       "<table border=\"1\" class=\"dataframe\">\n",
       "  <thead>\n",
       "    <tr style=\"text-align: right;\">\n",
       "      <th></th>\n",
       "      <th>MouseID</th>\n",
       "      <th>Drug Regimen</th>\n",
       "      <th>Sex</th>\n",
       "      <th>Age_months</th>\n",
       "      <th>Weight (g)</th>\n",
       "      <th>Timepoint</th>\n",
       "      <th>Tumor Volume (mm3)</th>\n",
       "      <th>Metastatic Sites</th>\n",
       "      <th>MouseID_Timepoint</th>\n",
       "    </tr>\n",
       "  </thead>\n",
       "  <tbody>\n",
       "    <tr>\n",
       "      <th>0</th>\n",
       "      <td>k403</td>\n",
       "      <td>Ramicane</td>\n",
       "      <td>Male</td>\n",
       "      <td>21</td>\n",
       "      <td>16</td>\n",
       "      <td>0</td>\n",
       "      <td>45.000000</td>\n",
       "      <td>0</td>\n",
       "      <td>k403-0</td>\n",
       "    </tr>\n",
       "    <tr>\n",
       "      <th>1</th>\n",
       "      <td>k403</td>\n",
       "      <td>Ramicane</td>\n",
       "      <td>Male</td>\n",
       "      <td>21</td>\n",
       "      <td>16</td>\n",
       "      <td>5</td>\n",
       "      <td>38.825898</td>\n",
       "      <td>0</td>\n",
       "      <td>k403-5</td>\n",
       "    </tr>\n",
       "    <tr>\n",
       "      <th>2</th>\n",
       "      <td>k403</td>\n",
       "      <td>Ramicane</td>\n",
       "      <td>Male</td>\n",
       "      <td>21</td>\n",
       "      <td>16</td>\n",
       "      <td>10</td>\n",
       "      <td>35.014271</td>\n",
       "      <td>1</td>\n",
       "      <td>k403-10</td>\n",
       "    </tr>\n",
       "    <tr>\n",
       "      <th>3</th>\n",
       "      <td>k403</td>\n",
       "      <td>Ramicane</td>\n",
       "      <td>Male</td>\n",
       "      <td>21</td>\n",
       "      <td>16</td>\n",
       "      <td>15</td>\n",
       "      <td>34.223992</td>\n",
       "      <td>1</td>\n",
       "      <td>k403-15</td>\n",
       "    </tr>\n",
       "    <tr>\n",
       "      <th>4</th>\n",
       "      <td>k403</td>\n",
       "      <td>Ramicane</td>\n",
       "      <td>Male</td>\n",
       "      <td>21</td>\n",
       "      <td>16</td>\n",
       "      <td>20</td>\n",
       "      <td>32.997729</td>\n",
       "      <td>1</td>\n",
       "      <td>k403-20</td>\n",
       "    </tr>\n",
       "    <tr>\n",
       "      <th>...</th>\n",
       "      <td>...</td>\n",
       "      <td>...</td>\n",
       "      <td>...</td>\n",
       "      <td>...</td>\n",
       "      <td>...</td>\n",
       "      <td>...</td>\n",
       "      <td>...</td>\n",
       "      <td>...</td>\n",
       "      <td>...</td>\n",
       "    </tr>\n",
       "    <tr>\n",
       "      <th>1888</th>\n",
       "      <td>z969</td>\n",
       "      <td>Naftisol</td>\n",
       "      <td>Male</td>\n",
       "      <td>9</td>\n",
       "      <td>30</td>\n",
       "      <td>25</td>\n",
       "      <td>63.145652</td>\n",
       "      <td>2</td>\n",
       "      <td>z969-25</td>\n",
       "    </tr>\n",
       "    <tr>\n",
       "      <th>1889</th>\n",
       "      <td>z969</td>\n",
       "      <td>Naftisol</td>\n",
       "      <td>Male</td>\n",
       "      <td>9</td>\n",
       "      <td>30</td>\n",
       "      <td>30</td>\n",
       "      <td>65.841013</td>\n",
       "      <td>3</td>\n",
       "      <td>z969-30</td>\n",
       "    </tr>\n",
       "    <tr>\n",
       "      <th>1890</th>\n",
       "      <td>z969</td>\n",
       "      <td>Naftisol</td>\n",
       "      <td>Male</td>\n",
       "      <td>9</td>\n",
       "      <td>30</td>\n",
       "      <td>35</td>\n",
       "      <td>69.176246</td>\n",
       "      <td>4</td>\n",
       "      <td>z969-35</td>\n",
       "    </tr>\n",
       "    <tr>\n",
       "      <th>1891</th>\n",
       "      <td>z969</td>\n",
       "      <td>Naftisol</td>\n",
       "      <td>Male</td>\n",
       "      <td>9</td>\n",
       "      <td>30</td>\n",
       "      <td>40</td>\n",
       "      <td>70.314904</td>\n",
       "      <td>4</td>\n",
       "      <td>z969-40</td>\n",
       "    </tr>\n",
       "    <tr>\n",
       "      <th>1892</th>\n",
       "      <td>z969</td>\n",
       "      <td>Naftisol</td>\n",
       "      <td>Male</td>\n",
       "      <td>9</td>\n",
       "      <td>30</td>\n",
       "      <td>45</td>\n",
       "      <td>73.867845</td>\n",
       "      <td>4</td>\n",
       "      <td>z969-45</td>\n",
       "    </tr>\n",
       "  </tbody>\n",
       "</table>\n",
       "<p>1880 rows × 9 columns</p>\n",
       "</div>"
      ],
      "text/plain": [
       "     MouseID Drug Regimen   Sex  Age_months  Weight (g)  Timepoint  \\\n",
       "0       k403     Ramicane  Male          21          16          0   \n",
       "1       k403     Ramicane  Male          21          16          5   \n",
       "2       k403     Ramicane  Male          21          16         10   \n",
       "3       k403     Ramicane  Male          21          16         15   \n",
       "4       k403     Ramicane  Male          21          16         20   \n",
       "...      ...          ...   ...         ...         ...        ...   \n",
       "1888    z969     Naftisol  Male           9          30         25   \n",
       "1889    z969     Naftisol  Male           9          30         30   \n",
       "1890    z969     Naftisol  Male           9          30         35   \n",
       "1891    z969     Naftisol  Male           9          30         40   \n",
       "1892    z969     Naftisol  Male           9          30         45   \n",
       "\n",
       "      Tumor Volume (mm3)  Metastatic Sites MouseID_Timepoint  \n",
       "0              45.000000                 0            k403-0  \n",
       "1              38.825898                 0            k403-5  \n",
       "2              35.014271                 1           k403-10  \n",
       "3              34.223992                 1           k403-15  \n",
       "4              32.997729                 1           k403-20  \n",
       "...                  ...               ...               ...  \n",
       "1888           63.145652                 2           z969-25  \n",
       "1889           65.841013                 3           z969-30  \n",
       "1890           69.176246                 4           z969-35  \n",
       "1891           70.314904                 4           z969-40  \n",
       "1892           73.867845                 4           z969-45  \n",
       "\n",
       "[1880 rows x 9 columns]"
      ]
     },
     "execution_count": 77,
     "metadata": {},
     "output_type": "execute_result"
    }
   ],
   "source": [
    "# Create a clean DataFrame by dropping the duplicate mouse by its ID.\n",
    "Trial_data_complete_cleaned_df = Trial_data_complete_rename[Trial_data_complete_rename[\"MouseID\"] != \"g989\"]\n",
    "Trial_data_complete_cleaned_df"
   ]
  },
  {
   "cell_type": "code",
   "execution_count": 78,
   "metadata": {},
   "outputs": [
    {
     "data": {
      "text/plain": [
       "248"
      ]
     },
     "execution_count": 78,
     "metadata": {},
     "output_type": "execute_result"
    }
   ],
   "source": [
    "#After removing the mouse that had duplicated timepoint, check how many mouse in the dataset\n",
    "No_of_mouse_checker = len(Trial_data_complete_cleaned_df[\"MouseID\"].unique())\n",
    "No_of_mouse_checker"
   ]
  },
  {
   "cell_type": "markdown",
   "metadata": {},
   "source": [
    "## Summary Statistics"
   ]
  },
  {
   "cell_type": "code",
   "execution_count": 79,
   "metadata": {},
   "outputs": [],
   "source": [
    "# Generate a summary statistics table of mean, median, variance, standard deviation, and SEM of the tumor volume for each regimen\n",
    "# This method is the most straighforward, creating multiple series and putting them all together at the end.\n"
   ]
  },
  {
   "cell_type": "code",
   "execution_count": 80,
   "metadata": {},
   "outputs": [
    {
     "data": {
      "text/plain": [
       "Index(['MouseID', 'Drug Regimen', 'Sex', 'Age_months', 'Weight (g)',\n",
       "       'Timepoint', 'Tumor Volume (mm3)', 'Metastatic Sites',\n",
       "       'MouseID_Timepoint'],\n",
       "      dtype='object')"
      ]
     },
     "execution_count": 80,
     "metadata": {},
     "output_type": "execute_result"
    }
   ],
   "source": [
    "#Looking at the column name\n",
    "Trial_data_complete_cleaned_df.columns"
   ]
  },
  {
   "cell_type": "code",
   "execution_count": 81,
   "metadata": {},
   "outputs": [
    {
     "data": {
      "text/plain": [
       "Capomulin    230\n",
       "Ramicane     228\n",
       "Ketapril     188\n",
       "Naftisol     186\n",
       "Zoniferol    182\n",
       "Placebo      181\n",
       "Stelasyn     181\n",
       "Infubinol    178\n",
       "Ceftamin     178\n",
       "Propriva     148\n",
       "Name: Drug Regimen, dtype: int64"
      ]
     },
     "execution_count": 81,
     "metadata": {},
     "output_type": "execute_result"
    }
   ],
   "source": [
    "#To start my summary statistics. Have a look at how many regimens we have in the dataset\n",
    "No_of_regimen = (Trial_data_complete_cleaned_df[\"Drug Regimen\"].value_counts())\n",
    "No_of_regimen"
   ]
  },
  {
   "cell_type": "markdown",
   "metadata": {},
   "source": []
  },
  {
   "cell_type": "code",
   "execution_count": 82,
   "metadata": {},
   "outputs": [
    {
     "data": {
      "text/plain": [
       "Drug Regimen\n",
       "Capomulin    40.675741\n",
       "Ceftamin     52.591172\n",
       "Infubinol    52.884795\n",
       "Ketapril     55.235638\n",
       "Naftisol     54.331565\n",
       "Placebo      54.033581\n",
       "Propriva     52.320930\n",
       "Ramicane     40.216745\n",
       "Stelasyn     54.233149\n",
       "Zoniferol    53.236507\n",
       "Name: Tumor Volume (mm3), dtype: float64"
      ]
     },
     "execution_count": 82,
     "metadata": {},
     "output_type": "execute_result"
    }
   ],
   "source": [
    "Mean_Tumor_Volume = Trial_data_complete_cleaned_df.groupby(\"Drug Regimen\").mean()['Tumor Volume (mm3)']\n",
    "Mean_Tumor_Volume"
   ]
  },
  {
   "cell_type": "code",
   "execution_count": 83,
   "metadata": {},
   "outputs": [
    {
     "data": {
      "text/plain": [
       "Drug Regimen\n",
       "Capomulin    13.456522\n",
       "Ceftamin     13.247191\n",
       "Infubinol    16.230337\n",
       "Ketapril     15.659574\n",
       "Naftisol     12.000000\n",
       "Placebo      10.734807\n",
       "Propriva     10.006757\n",
       "Ramicane     10.684211\n",
       "Stelasyn     12.784530\n",
       "Zoniferol    12.598901\n",
       "Name: Age_months, dtype: float64"
      ]
     },
     "execution_count": 83,
     "metadata": {},
     "output_type": "execute_result"
    }
   ],
   "source": [
    "Mean_Age_Months = Trial_data_complete_cleaned_df.groupby(\"Drug Regimen\").mean()['Age_months']\n",
    "Mean_Age_Months \n"
   ]
  },
  {
   "cell_type": "code",
   "execution_count": 84,
   "metadata": {},
   "outputs": [
    {
     "data": {
      "text/plain": [
       "Drug Regimen\n",
       "Capomulin    19.965217\n",
       "Ceftamin     27.398876\n",
       "Infubinol    27.196629\n",
       "Ketapril     27.861702\n",
       "Naftisol     27.166667\n",
       "Placebo      27.928177\n",
       "Propriva     27.135135\n",
       "Ramicane     19.679825\n",
       "Stelasyn     27.856354\n",
       "Zoniferol    27.692308\n",
       "Name: Weight (g), dtype: float64"
      ]
     },
     "execution_count": 84,
     "metadata": {},
     "output_type": "execute_result"
    }
   ],
   "source": [
    "Mean_Weight = Trial_data_complete_cleaned_df.groupby(\"Drug Regimen\").mean()['Weight (g)']\n",
    "Mean_Weight"
   ]
  },
  {
   "cell_type": "code",
   "execution_count": 85,
   "metadata": {},
   "outputs": [
    {
     "data": {
      "text/plain": [
       "Drug Regimen\n",
       "Capomulin    0.713043\n",
       "Ceftamin     1.179775\n",
       "Infubinol    0.960674\n",
       "Ketapril     1.297872\n",
       "Naftisol     1.182796\n",
       "Placebo      1.441989\n",
       "Propriva     1.013514\n",
       "Ramicane     0.548246\n",
       "Stelasyn     0.872928\n",
       "Zoniferol    1.230769\n",
       "Name: Metastatic Sites, dtype: float64"
      ]
     },
     "execution_count": 85,
     "metadata": {},
     "output_type": "execute_result"
    }
   ],
   "source": [
    "Mean_Metastatic_Sites = Trial_data_complete_cleaned_df.groupby(\"Drug Regimen\").mean()['Metastatic Sites']\n",
    "Mean_Metastatic_Sites"
   ]
  },
  {
   "cell_type": "code",
   "execution_count": 86,
   "metadata": {},
   "outputs": [
    {
     "data": {
      "text/plain": [
       "Drug Regimen\n",
       "Capomulin    41.557809\n",
       "Ceftamin     51.776157\n",
       "Infubinol    51.820584\n",
       "Ketapril     53.698743\n",
       "Naftisol     52.509285\n",
       "Placebo      52.288934\n",
       "Propriva     50.446266\n",
       "Ramicane     40.673236\n",
       "Stelasyn     52.431737\n",
       "Zoniferol    51.818479\n",
       "Name: Tumor Volume (mm3), dtype: float64"
      ]
     },
     "execution_count": 86,
     "metadata": {},
     "output_type": "execute_result"
    }
   ],
   "source": [
    "Median_Tumor_Volume = Trial_data_complete_cleaned_df.groupby(\"Drug Regimen\").median()['Tumor Volume (mm3)']\n",
    "Median_Tumor_Volume"
   ]
  },
  {
   "cell_type": "code",
   "execution_count": 87,
   "metadata": {},
   "outputs": [
    {
     "data": {
      "text/plain": [
       "Drug Regimen\n",
       "Capomulin    16.5\n",
       "Ceftamin     12.0\n",
       "Infubinol    20.0\n",
       "Ketapril     18.0\n",
       "Naftisol      9.0\n",
       "Placebo      10.0\n",
       "Propriva      7.5\n",
       "Ramicane      9.0\n",
       "Stelasyn     14.0\n",
       "Zoniferol    12.5\n",
       "Name: Age_months, dtype: float64"
      ]
     },
     "execution_count": 87,
     "metadata": {},
     "output_type": "execute_result"
    }
   ],
   "source": [
    "Median_Age_Months = Trial_data_complete_cleaned_df.groupby(\"Drug Regimen\").median()['Age_months']\n",
    "Median_Age_Months"
   ]
  },
  {
   "cell_type": "code",
   "execution_count": 88,
   "metadata": {},
   "outputs": [
    {
     "data": {
      "text/plain": [
       "Drug Regimen\n",
       "Capomulin    20.5\n",
       "Ceftamin     28.0\n",
       "Infubinol    27.0\n",
       "Ketapril     28.0\n",
       "Naftisol     27.0\n",
       "Placebo      28.0\n",
       "Propriva     26.0\n",
       "Ramicane     19.0\n",
       "Stelasyn     28.0\n",
       "Zoniferol    28.0\n",
       "Name: Weight (g), dtype: float64"
      ]
     },
     "execution_count": 88,
     "metadata": {},
     "output_type": "execute_result"
    }
   ],
   "source": [
    "Median_Weight = Trial_data_complete_cleaned_df.groupby(\"Drug Regimen\").median()['Weight (g)']\n",
    "Median_Weight\n"
   ]
  },
  {
   "cell_type": "code",
   "execution_count": 89,
   "metadata": {},
   "outputs": [
    {
     "data": {
      "text/plain": [
       "Drug Regimen\n",
       "Capomulin    0.0\n",
       "Ceftamin     1.0\n",
       "Infubinol    1.0\n",
       "Ketapril     1.0\n",
       "Naftisol     1.0\n",
       "Placebo      1.0\n",
       "Propriva     1.0\n",
       "Ramicane     0.0\n",
       "Stelasyn     1.0\n",
       "Zoniferol    1.0\n",
       "Name: Metastatic Sites, dtype: float64"
      ]
     },
     "execution_count": 89,
     "metadata": {},
     "output_type": "execute_result"
    }
   ],
   "source": [
    "Median_Metastatic_Sites = Trial_data_complete_cleaned_df.groupby(\"Drug Regimen\").median()['Metastatic Sites']\n",
    "Median_Metastatic_Sites"
   ]
  },
  {
   "cell_type": "code",
   "execution_count": 90,
   "metadata": {},
   "outputs": [
    {
     "data": {
      "text/plain": [
       "Drug Regimen\n",
       "Capomulin    24.947764\n",
       "Ceftamin     39.290177\n",
       "Infubinol    43.128684\n",
       "Ketapril     68.553577\n",
       "Naftisol     66.173479\n",
       "Placebo      61.168083\n",
       "Propriva     43.852013\n",
       "Ramicane     23.486704\n",
       "Stelasyn     59.450562\n",
       "Zoniferol    48.533355\n",
       "Name: Tumor Volume (mm3), dtype: float64"
      ]
     },
     "execution_count": 90,
     "metadata": {},
     "output_type": "execute_result"
    }
   ],
   "source": [
    "Variance_Tumor_Volume = Trial_data_complete_cleaned_df.groupby(\"Drug Regimen\").var()['Tumor Volume (mm3)']\n",
    "Variance_Tumor_Volume"
   ]
  },
  {
   "cell_type": "code",
   "execution_count": 91,
   "metadata": {},
   "outputs": [
    {
     "data": {
      "text/plain": [
       "Drug Regimen\n",
       "Capomulin    59.620372\n",
       "Ceftamin     65.147591\n",
       "Infubinol    56.404272\n",
       "Ketapril     36.236432\n",
       "Naftisol     45.102703\n",
       "Placebo      40.384837\n",
       "Propriva     48.251655\n",
       "Ramicane     35.362393\n",
       "Stelasyn     63.036648\n",
       "Zoniferol    33.479115\n",
       "Name: Age_months, dtype: float64"
      ]
     },
     "execution_count": 91,
     "metadata": {},
     "output_type": "execute_result"
    }
   ],
   "source": [
    "Variance_Age_Months = Trial_data_complete_cleaned_df.groupby(\"Drug Regimen\").var()['Age_months']\n",
    "Variance_Age_Months"
   ]
  },
  {
   "cell_type": "code",
   "execution_count": 92,
   "metadata": {},
   "outputs": [
    {
     "data": {
      "text/plain": [
       "Drug Regimen\n",
       "Capomulin     7.466034\n",
       "Ceftamin      2.501016\n",
       "Infubinol     4.769028\n",
       "Ketapril      3.392536\n",
       "Naftisol      2.247748\n",
       "Placebo       3.378146\n",
       "Propriva      2.933995\n",
       "Ramicane     10.465318\n",
       "Stelasyn      2.701473\n",
       "Zoniferol     2.015300\n",
       "Name: Weight (g), dtype: float64"
      ]
     },
     "execution_count": 92,
     "metadata": {},
     "output_type": "execute_result"
    }
   ],
   "source": [
    "Vairance_Weight = Trial_data_complete_cleaned_df.groupby(\"Drug Regimen\").var()['Weight (g)']\n",
    "Vairance_Weight"
   ]
  },
  {
   "cell_type": "code",
   "execution_count": 93,
   "metadata": {},
   "outputs": [
    {
     "data": {
      "text/plain": [
       "Drug Regimen\n",
       "Capomulin    0.720790\n",
       "Ceftamin     1.402527\n",
       "Infubinol    1.054942\n",
       "Ketapril     1.942883\n",
       "Naftisol     1.479919\n",
       "Placebo      1.792449\n",
       "Propriva     1.224306\n",
       "Ramicane     0.477838\n",
       "Stelasyn     0.944874\n",
       "Zoniferol    1.559711\n",
       "Name: Metastatic Sites, dtype: float64"
      ]
     },
     "execution_count": 93,
     "metadata": {},
     "output_type": "execute_result"
    }
   ],
   "source": [
    "Variance_Metastatic_Sites = Trial_data_complete_cleaned_df.groupby(\"Drug Regimen\").var()['Metastatic Sites']\n",
    "Variance_Metastatic_Sites"
   ]
  },
  {
   "cell_type": "code",
   "execution_count": 94,
   "metadata": {},
   "outputs": [
    {
     "data": {
      "text/plain": [
       "Drug Regimen\n",
       "Capomulin    4.994774\n",
       "Ceftamin     6.268188\n",
       "Infubinol    6.567243\n",
       "Ketapril     8.279709\n",
       "Naftisol     8.134708\n",
       "Placebo      7.821003\n",
       "Propriva     6.622085\n",
       "Ramicane     4.846308\n",
       "Stelasyn     7.710419\n",
       "Zoniferol    6.966589\n",
       "Name: Tumor Volume (mm3), dtype: float64"
      ]
     },
     "execution_count": 94,
     "metadata": {},
     "output_type": "execute_result"
    }
   ],
   "source": [
    "Standard_Deviation_Tumor_Volume = Trial_data_complete_cleaned_df.groupby(\"Drug Regimen\").std()['Tumor Volume (mm3)']\n",
    "Standard_Deviation_Tumor_Volume"
   ]
  },
  {
   "cell_type": "code",
   "execution_count": 95,
   "metadata": {},
   "outputs": [
    {
     "data": {
      "text/plain": [
       "Drug Regimen\n",
       "Capomulin    7.721423\n",
       "Ceftamin     8.071406\n",
       "Infubinol    7.510278\n",
       "Ketapril     6.019670\n",
       "Naftisol     6.715855\n",
       "Placebo      6.354907\n",
       "Propriva     6.946341\n",
       "Ramicane     5.946629\n",
       "Stelasyn     7.939562\n",
       "Zoniferol    5.786114\n",
       "Name: Age_months, dtype: float64"
      ]
     },
     "execution_count": 95,
     "metadata": {},
     "output_type": "execute_result"
    }
   ],
   "source": [
    "Standard_Deviation_Age_Months = Trial_data_complete_cleaned_df.groupby(\"Drug Regimen\").std()['Age_months']\n",
    "Standard_Deviation_Age_Months"
   ]
  },
  {
   "cell_type": "code",
   "execution_count": 96,
   "metadata": {},
   "outputs": [
    {
     "data": {
      "text/plain": [
       "Drug Regimen\n",
       "Capomulin    2.732404\n",
       "Ceftamin     1.581460\n",
       "Infubinol    2.183810\n",
       "Ketapril     1.841884\n",
       "Naftisol     1.499249\n",
       "Placebo      1.837973\n",
       "Propriva     1.712891\n",
       "Ramicane     3.235014\n",
       "Stelasyn     1.643616\n",
       "Zoniferol    1.419612\n",
       "Name: Weight (g), dtype: float64"
      ]
     },
     "execution_count": 96,
     "metadata": {},
     "output_type": "execute_result"
    }
   ],
   "source": [
    "Standard_Deviation_Weight = Trial_data_complete_cleaned_df.groupby(\"Drug Regimen\").std()['Weight (g)']\n",
    "Standard_Deviation_Weight"
   ]
  },
  {
   "cell_type": "code",
   "execution_count": 97,
   "metadata": {},
   "outputs": [
    {
     "data": {
      "text/plain": [
       "Drug Regimen\n",
       "Capomulin    0.848993\n",
       "Ceftamin     1.184283\n",
       "Infubinol    1.027104\n",
       "Ketapril     1.393873\n",
       "Naftisol     1.216519\n",
       "Placebo      1.338824\n",
       "Propriva     1.106484\n",
       "Ramicane     0.691259\n",
       "Stelasyn     0.972046\n",
       "Zoniferol    1.248884\n",
       "Name: Metastatic Sites, dtype: float64"
      ]
     },
     "execution_count": 97,
     "metadata": {},
     "output_type": "execute_result"
    }
   ],
   "source": [
    "Standard_Deviation_Metastatic_Sites = Trial_data_complete_cleaned_df.groupby(\"Drug Regimen\").std()['Metastatic Sites']\n",
    "Standard_Deviation_Metastatic_Sites"
   ]
  },
  {
   "cell_type": "code",
   "execution_count": 98,
   "metadata": {},
   "outputs": [
    {
     "data": {
      "text/plain": [
       "Drug Regimen\n",
       "Capomulin    0.329346\n",
       "Ceftamin     0.469821\n",
       "Infubinol    0.492236\n",
       "Ketapril     0.603860\n",
       "Naftisol     0.596466\n",
       "Placebo      0.581331\n",
       "Propriva     0.544332\n",
       "Ramicane     0.320955\n",
       "Stelasyn     0.573111\n",
       "Zoniferol    0.516398\n",
       "Name: Tumor Volume (mm3), dtype: float64"
      ]
     },
     "execution_count": 98,
     "metadata": {},
     "output_type": "execute_result"
    }
   ],
   "source": [
    "SEM_Tumor_Volume = Trial_data_complete_cleaned_df.groupby(\"Drug Regimen\").sem()['Tumor Volume (mm3)']\n",
    "SEM_Tumor_Volume"
   ]
  },
  {
   "cell_type": "code",
   "execution_count": 99,
   "metadata": {},
   "outputs": [
    {
     "data": {
      "text/plain": [
       "Drug Regimen\n",
       "Capomulin    0.509136\n",
       "Ceftamin     0.604977\n",
       "Infubinol    0.562919\n",
       "Ketapril     0.439030\n",
       "Naftisol     0.492430\n",
       "Placebo      0.472356\n",
       "Propriva     0.570986\n",
       "Ramicane     0.393825\n",
       "Stelasyn     0.590143\n",
       "Zoniferol    0.428895\n",
       "Name: Age_months, dtype: float64"
      ]
     },
     "execution_count": 99,
     "metadata": {},
     "output_type": "execute_result"
    }
   ],
   "source": [
    "SEM_Age_Months = Trial_data_complete_cleaned_df.groupby(\"Drug Regimen\").sem()['Age_months']\n",
    "SEM_Age_Months"
   ]
  },
  {
   "cell_type": "code",
   "execution_count": 100,
   "metadata": {},
   "outputs": [
    {
     "data": {
      "text/plain": [
       "Drug Regimen\n",
       "Capomulin    2.732404\n",
       "Ceftamin     1.581460\n",
       "Infubinol    2.183810\n",
       "Ketapril     1.841884\n",
       "Naftisol     1.499249\n",
       "Placebo      1.837973\n",
       "Propriva     1.712891\n",
       "Ramicane     3.235014\n",
       "Stelasyn     1.643616\n",
       "Zoniferol    1.419612\n",
       "Name: Weight (g), dtype: float64"
      ]
     },
     "execution_count": 100,
     "metadata": {},
     "output_type": "execute_result"
    }
   ],
   "source": [
    "SEM_Weight = Trial_data_complete_cleaned_df.groupby(\"Drug Regimen\").std()['Weight (g)']\n",
    "SEM_Weight"
   ]
  },
  {
   "cell_type": "code",
   "execution_count": 101,
   "metadata": {},
   "outputs": [
    {
     "data": {
      "text/plain": [
       "Drug Regimen\n",
       "Capomulin    0.848993\n",
       "Ceftamin     1.184283\n",
       "Infubinol    1.027104\n",
       "Ketapril     1.393873\n",
       "Naftisol     1.216519\n",
       "Placebo      1.338824\n",
       "Propriva     1.106484\n",
       "Ramicane     0.691259\n",
       "Stelasyn     0.972046\n",
       "Zoniferol    1.248884\n",
       "Name: Metastatic Sites, dtype: float64"
      ]
     },
     "execution_count": 101,
     "metadata": {},
     "output_type": "execute_result"
    }
   ],
   "source": [
    "SEM_Metastatic_Sites = Trial_data_complete_cleaned_df.groupby(\"Drug Regimen\").std()['Metastatic Sites']\n",
    "SEM_Metastatic_Sites"
   ]
  },
  {
   "cell_type": "code",
   "execution_count": null,
   "metadata": {},
   "outputs": [],
   "source": []
  },
  {
   "cell_type": "code",
   "execution_count": 113,
   "metadata": {},
   "outputs": [
    {
     "data": {
      "text/html": [
       "<div>\n",
       "<style scoped>\n",
       "    .dataframe tbody tr th:only-of-type {\n",
       "        vertical-align: middle;\n",
       "    }\n",
       "\n",
       "    .dataframe tbody tr th {\n",
       "        vertical-align: top;\n",
       "    }\n",
       "\n",
       "    .dataframe thead th {\n",
       "        text-align: right;\n",
       "    }\n",
       "</style>\n",
       "<table border=\"1\" class=\"dataframe\">\n",
       "  <thead>\n",
       "    <tr style=\"text-align: right;\">\n",
       "      <th></th>\n",
       "      <th>Mean Tumor Volume</th>\n",
       "      <th>Mean Weight</th>\n",
       "      <th>Mean Age_Months</th>\n",
       "      <th>Mean Metastatic Sites</th>\n",
       "      <th>Median Tumor Volume</th>\n",
       "      <th>Median Weight</th>\n",
       "      <th>Median Age_Months</th>\n",
       "      <th>Median Metastatic Site</th>\n",
       "      <th>Variance Tumor Volume</th>\n",
       "      <th>Variance Weight</th>\n",
       "      <th>Variance Age_Months</th>\n",
       "      <th>Variance Metastatic Sites</th>\n",
       "      <th>Std Deviation Tumor Volume</th>\n",
       "      <th>Std Deviation Weight</th>\n",
       "      <th>Std Deviation Age_Months</th>\n",
       "      <th>Std Deviation Metastatic Site</th>\n",
       "      <th>SEM Tumor Volume</th>\n",
       "      <th>SEM Weight</th>\n",
       "      <th>SEM Age_Months</th>\n",
       "      <th>SEM Metastatic Sites</th>\n",
       "    </tr>\n",
       "    <tr>\n",
       "      <th>Drug Regimen</th>\n",
       "      <th></th>\n",
       "      <th></th>\n",
       "      <th></th>\n",
       "      <th></th>\n",
       "      <th></th>\n",
       "      <th></th>\n",
       "      <th></th>\n",
       "      <th></th>\n",
       "      <th></th>\n",
       "      <th></th>\n",
       "      <th></th>\n",
       "      <th></th>\n",
       "      <th></th>\n",
       "      <th></th>\n",
       "      <th></th>\n",
       "      <th></th>\n",
       "      <th></th>\n",
       "      <th></th>\n",
       "      <th></th>\n",
       "      <th></th>\n",
       "    </tr>\n",
       "  </thead>\n",
       "  <tbody>\n",
       "    <tr>\n",
       "      <th>Capomulin</th>\n",
       "      <td>40.675741</td>\n",
       "      <td>19.965217</td>\n",
       "      <td>13.456522</td>\n",
       "      <td>0.713043</td>\n",
       "      <td>41.557809</td>\n",
       "      <td>20.5</td>\n",
       "      <td>16.5</td>\n",
       "      <td>0.0</td>\n",
       "      <td>24.947764</td>\n",
       "      <td>7.466034</td>\n",
       "      <td>59.620372</td>\n",
       "      <td>0.720790</td>\n",
       "      <td>4.994774</td>\n",
       "      <td>2.732404</td>\n",
       "      <td>7.721423</td>\n",
       "      <td>0.848993</td>\n",
       "      <td>0.329346</td>\n",
       "      <td>2.732404</td>\n",
       "      <td>0.509136</td>\n",
       "      <td>0.848993</td>\n",
       "    </tr>\n",
       "    <tr>\n",
       "      <th>Ceftamin</th>\n",
       "      <td>52.591172</td>\n",
       "      <td>27.398876</td>\n",
       "      <td>13.247191</td>\n",
       "      <td>1.179775</td>\n",
       "      <td>51.776157</td>\n",
       "      <td>28.0</td>\n",
       "      <td>12.0</td>\n",
       "      <td>1.0</td>\n",
       "      <td>39.290177</td>\n",
       "      <td>2.501016</td>\n",
       "      <td>65.147591</td>\n",
       "      <td>1.402527</td>\n",
       "      <td>6.268188</td>\n",
       "      <td>1.581460</td>\n",
       "      <td>8.071406</td>\n",
       "      <td>1.184283</td>\n",
       "      <td>0.469821</td>\n",
       "      <td>1.581460</td>\n",
       "      <td>0.604977</td>\n",
       "      <td>1.184283</td>\n",
       "    </tr>\n",
       "    <tr>\n",
       "      <th>Infubinol</th>\n",
       "      <td>52.884795</td>\n",
       "      <td>27.196629</td>\n",
       "      <td>16.230337</td>\n",
       "      <td>0.960674</td>\n",
       "      <td>51.820584</td>\n",
       "      <td>27.0</td>\n",
       "      <td>20.0</td>\n",
       "      <td>1.0</td>\n",
       "      <td>43.128684</td>\n",
       "      <td>4.769028</td>\n",
       "      <td>56.404272</td>\n",
       "      <td>1.054942</td>\n",
       "      <td>6.567243</td>\n",
       "      <td>2.183810</td>\n",
       "      <td>7.510278</td>\n",
       "      <td>1.027104</td>\n",
       "      <td>0.492236</td>\n",
       "      <td>2.183810</td>\n",
       "      <td>0.562919</td>\n",
       "      <td>1.027104</td>\n",
       "    </tr>\n",
       "    <tr>\n",
       "      <th>Ketapril</th>\n",
       "      <td>55.235638</td>\n",
       "      <td>27.861702</td>\n",
       "      <td>15.659574</td>\n",
       "      <td>1.297872</td>\n",
       "      <td>53.698743</td>\n",
       "      <td>28.0</td>\n",
       "      <td>18.0</td>\n",
       "      <td>1.0</td>\n",
       "      <td>68.553577</td>\n",
       "      <td>3.392536</td>\n",
       "      <td>36.236432</td>\n",
       "      <td>1.942883</td>\n",
       "      <td>8.279709</td>\n",
       "      <td>1.841884</td>\n",
       "      <td>6.019670</td>\n",
       "      <td>1.393873</td>\n",
       "      <td>0.603860</td>\n",
       "      <td>1.841884</td>\n",
       "      <td>0.439030</td>\n",
       "      <td>1.393873</td>\n",
       "    </tr>\n",
       "    <tr>\n",
       "      <th>Naftisol</th>\n",
       "      <td>54.331565</td>\n",
       "      <td>27.166667</td>\n",
       "      <td>12.000000</td>\n",
       "      <td>1.182796</td>\n",
       "      <td>52.509285</td>\n",
       "      <td>27.0</td>\n",
       "      <td>9.0</td>\n",
       "      <td>1.0</td>\n",
       "      <td>66.173479</td>\n",
       "      <td>2.247748</td>\n",
       "      <td>45.102703</td>\n",
       "      <td>1.479919</td>\n",
       "      <td>8.134708</td>\n",
       "      <td>1.499249</td>\n",
       "      <td>6.715855</td>\n",
       "      <td>1.216519</td>\n",
       "      <td>0.596466</td>\n",
       "      <td>1.499249</td>\n",
       "      <td>0.492430</td>\n",
       "      <td>1.216519</td>\n",
       "    </tr>\n",
       "    <tr>\n",
       "      <th>Placebo</th>\n",
       "      <td>54.033581</td>\n",
       "      <td>27.928177</td>\n",
       "      <td>10.734807</td>\n",
       "      <td>1.441989</td>\n",
       "      <td>52.288934</td>\n",
       "      <td>28.0</td>\n",
       "      <td>10.0</td>\n",
       "      <td>1.0</td>\n",
       "      <td>61.168083</td>\n",
       "      <td>3.378146</td>\n",
       "      <td>40.384837</td>\n",
       "      <td>1.792449</td>\n",
       "      <td>7.821003</td>\n",
       "      <td>1.837973</td>\n",
       "      <td>6.354907</td>\n",
       "      <td>1.338824</td>\n",
       "      <td>0.581331</td>\n",
       "      <td>1.837973</td>\n",
       "      <td>0.472356</td>\n",
       "      <td>1.338824</td>\n",
       "    </tr>\n",
       "    <tr>\n",
       "      <th>Propriva</th>\n",
       "      <td>52.320930</td>\n",
       "      <td>27.135135</td>\n",
       "      <td>10.006757</td>\n",
       "      <td>1.013514</td>\n",
       "      <td>50.446266</td>\n",
       "      <td>26.0</td>\n",
       "      <td>7.5</td>\n",
       "      <td>1.0</td>\n",
       "      <td>43.852013</td>\n",
       "      <td>2.933995</td>\n",
       "      <td>48.251655</td>\n",
       "      <td>1.224306</td>\n",
       "      <td>6.622085</td>\n",
       "      <td>1.712891</td>\n",
       "      <td>6.946341</td>\n",
       "      <td>1.106484</td>\n",
       "      <td>0.544332</td>\n",
       "      <td>1.712891</td>\n",
       "      <td>0.570986</td>\n",
       "      <td>1.106484</td>\n",
       "    </tr>\n",
       "    <tr>\n",
       "      <th>Ramicane</th>\n",
       "      <td>40.216745</td>\n",
       "      <td>19.679825</td>\n",
       "      <td>10.684211</td>\n",
       "      <td>0.548246</td>\n",
       "      <td>40.673236</td>\n",
       "      <td>19.0</td>\n",
       "      <td>9.0</td>\n",
       "      <td>0.0</td>\n",
       "      <td>23.486704</td>\n",
       "      <td>10.465318</td>\n",
       "      <td>35.362393</td>\n",
       "      <td>0.477838</td>\n",
       "      <td>4.846308</td>\n",
       "      <td>3.235014</td>\n",
       "      <td>5.946629</td>\n",
       "      <td>0.691259</td>\n",
       "      <td>0.320955</td>\n",
       "      <td>3.235014</td>\n",
       "      <td>0.393825</td>\n",
       "      <td>0.691259</td>\n",
       "    </tr>\n",
       "    <tr>\n",
       "      <th>Stelasyn</th>\n",
       "      <td>54.233149</td>\n",
       "      <td>27.856354</td>\n",
       "      <td>12.784530</td>\n",
       "      <td>0.872928</td>\n",
       "      <td>52.431737</td>\n",
       "      <td>28.0</td>\n",
       "      <td>14.0</td>\n",
       "      <td>1.0</td>\n",
       "      <td>59.450562</td>\n",
       "      <td>2.701473</td>\n",
       "      <td>63.036648</td>\n",
       "      <td>0.944874</td>\n",
       "      <td>7.710419</td>\n",
       "      <td>1.643616</td>\n",
       "      <td>7.939562</td>\n",
       "      <td>0.972046</td>\n",
       "      <td>0.573111</td>\n",
       "      <td>1.643616</td>\n",
       "      <td>0.590143</td>\n",
       "      <td>0.972046</td>\n",
       "    </tr>\n",
       "    <tr>\n",
       "      <th>Zoniferol</th>\n",
       "      <td>53.236507</td>\n",
       "      <td>27.692308</td>\n",
       "      <td>12.598901</td>\n",
       "      <td>1.230769</td>\n",
       "      <td>51.818479</td>\n",
       "      <td>28.0</td>\n",
       "      <td>12.5</td>\n",
       "      <td>1.0</td>\n",
       "      <td>48.533355</td>\n",
       "      <td>2.015300</td>\n",
       "      <td>33.479115</td>\n",
       "      <td>1.559711</td>\n",
       "      <td>6.966589</td>\n",
       "      <td>1.419612</td>\n",
       "      <td>5.786114</td>\n",
       "      <td>1.248884</td>\n",
       "      <td>0.516398</td>\n",
       "      <td>1.419612</td>\n",
       "      <td>0.428895</td>\n",
       "      <td>1.248884</td>\n",
       "    </tr>\n",
       "  </tbody>\n",
       "</table>\n",
       "</div>"
      ],
      "text/plain": [
       "              Mean Tumor Volume  Mean Weight  Mean Age_Months  \\\n",
       "Drug Regimen                                                    \n",
       "Capomulin             40.675741    19.965217        13.456522   \n",
       "Ceftamin              52.591172    27.398876        13.247191   \n",
       "Infubinol             52.884795    27.196629        16.230337   \n",
       "Ketapril              55.235638    27.861702        15.659574   \n",
       "Naftisol              54.331565    27.166667        12.000000   \n",
       "Placebo               54.033581    27.928177        10.734807   \n",
       "Propriva              52.320930    27.135135        10.006757   \n",
       "Ramicane              40.216745    19.679825        10.684211   \n",
       "Stelasyn              54.233149    27.856354        12.784530   \n",
       "Zoniferol             53.236507    27.692308        12.598901   \n",
       "\n",
       "              Mean Metastatic Sites  Median Tumor Volume  Median Weight  \\\n",
       "Drug Regimen                                                              \n",
       "Capomulin                  0.713043            41.557809           20.5   \n",
       "Ceftamin                   1.179775            51.776157           28.0   \n",
       "Infubinol                  0.960674            51.820584           27.0   \n",
       "Ketapril                   1.297872            53.698743           28.0   \n",
       "Naftisol                   1.182796            52.509285           27.0   \n",
       "Placebo                    1.441989            52.288934           28.0   \n",
       "Propriva                   1.013514            50.446266           26.0   \n",
       "Ramicane                   0.548246            40.673236           19.0   \n",
       "Stelasyn                   0.872928            52.431737           28.0   \n",
       "Zoniferol                  1.230769            51.818479           28.0   \n",
       "\n",
       "              Median Age_Months  Median Metastatic Site  \\\n",
       "Drug Regimen                                              \n",
       "Capomulin                  16.5                     0.0   \n",
       "Ceftamin                   12.0                     1.0   \n",
       "Infubinol                  20.0                     1.0   \n",
       "Ketapril                   18.0                     1.0   \n",
       "Naftisol                    9.0                     1.0   \n",
       "Placebo                    10.0                     1.0   \n",
       "Propriva                    7.5                     1.0   \n",
       "Ramicane                    9.0                     0.0   \n",
       "Stelasyn                   14.0                     1.0   \n",
       "Zoniferol                  12.5                     1.0   \n",
       "\n",
       "              Variance Tumor Volume  Variance Weight  Variance Age_Months  \\\n",
       "Drug Regimen                                                                \n",
       "Capomulin                 24.947764         7.466034            59.620372   \n",
       "Ceftamin                  39.290177         2.501016            65.147591   \n",
       "Infubinol                 43.128684         4.769028            56.404272   \n",
       "Ketapril                  68.553577         3.392536            36.236432   \n",
       "Naftisol                  66.173479         2.247748            45.102703   \n",
       "Placebo                   61.168083         3.378146            40.384837   \n",
       "Propriva                  43.852013         2.933995            48.251655   \n",
       "Ramicane                  23.486704        10.465318            35.362393   \n",
       "Stelasyn                  59.450562         2.701473            63.036648   \n",
       "Zoniferol                 48.533355         2.015300            33.479115   \n",
       "\n",
       "              Variance Metastatic Sites  Std Deviation Tumor Volume  \\\n",
       "Drug Regimen                                                          \n",
       "Capomulin                      0.720790                    4.994774   \n",
       "Ceftamin                       1.402527                    6.268188   \n",
       "Infubinol                      1.054942                    6.567243   \n",
       "Ketapril                       1.942883                    8.279709   \n",
       "Naftisol                       1.479919                    8.134708   \n",
       "Placebo                        1.792449                    7.821003   \n",
       "Propriva                       1.224306                    6.622085   \n",
       "Ramicane                       0.477838                    4.846308   \n",
       "Stelasyn                       0.944874                    7.710419   \n",
       "Zoniferol                      1.559711                    6.966589   \n",
       "\n",
       "              Std Deviation Weight  Std Deviation Age_Months  \\\n",
       "Drug Regimen                                                   \n",
       "Capomulin                 2.732404                  7.721423   \n",
       "Ceftamin                  1.581460                  8.071406   \n",
       "Infubinol                 2.183810                  7.510278   \n",
       "Ketapril                  1.841884                  6.019670   \n",
       "Naftisol                  1.499249                  6.715855   \n",
       "Placebo                   1.837973                  6.354907   \n",
       "Propriva                  1.712891                  6.946341   \n",
       "Ramicane                  3.235014                  5.946629   \n",
       "Stelasyn                  1.643616                  7.939562   \n",
       "Zoniferol                 1.419612                  5.786114   \n",
       "\n",
       "              Std Deviation Metastatic Site  SEM Tumor Volume  SEM Weight  \\\n",
       "Drug Regimen                                                                \n",
       "Capomulin                          0.848993          0.329346    2.732404   \n",
       "Ceftamin                           1.184283          0.469821    1.581460   \n",
       "Infubinol                          1.027104          0.492236    2.183810   \n",
       "Ketapril                           1.393873          0.603860    1.841884   \n",
       "Naftisol                           1.216519          0.596466    1.499249   \n",
       "Placebo                            1.338824          0.581331    1.837973   \n",
       "Propriva                           1.106484          0.544332    1.712891   \n",
       "Ramicane                           0.691259          0.320955    3.235014   \n",
       "Stelasyn                           0.972046          0.573111    1.643616   \n",
       "Zoniferol                          1.248884          0.516398    1.419612   \n",
       "\n",
       "              SEM Age_Months  SEM Metastatic Sites  \n",
       "Drug Regimen                                        \n",
       "Capomulin           0.509136              0.848993  \n",
       "Ceftamin            0.604977              1.184283  \n",
       "Infubinol           0.562919              1.027104  \n",
       "Ketapril            0.439030              1.393873  \n",
       "Naftisol            0.492430              1.216519  \n",
       "Placebo             0.472356              1.338824  \n",
       "Propriva            0.570986              1.106484  \n",
       "Ramicane            0.393825              0.691259  \n",
       "Stelasyn            0.590143              0.972046  \n",
       "Zoniferol           0.428895              1.248884  "
      ]
     },
     "execution_count": 113,
     "metadata": {},
     "output_type": "execute_result"
    }
   ],
   "source": [
    "Summary_Statistic_df = pd.DataFrame({\"Mean Tumor Volume\": Mean_Tumor_Volume,\n",
    "                                \"Mean Weight\":Mean_Weight,\n",
    "                                \"Mean Age_Months\":Mean_Age_Months,\n",
    "                                \"Mean Metastatic Sites\":Mean_Metastatic_Sites,\n",
    "                                \"Median Tumor Volume\":Median_Tumor_Volume,\n",
    "                                \"Median Weight\":Median_Weight,\n",
    "                                \"Median Age_Months\":Median_Age_Months,\n",
    "                                \"Median Metastatic Site\":Median_Metastatic_Sites,\n",
    "                                \"Variance Tumor Volume\":Variance_Tumor_Volume,\n",
    "                                \"Variance Weight\":Vairance_Weight,\n",
    "                                \"Variance Age_Months\":Variance_Age_Months,\n",
    "                                \"Variance Metastatic Sites\":Variance_Metastatic_Sites,\n",
    "                                \"Std Deviation Tumor Volume\":Standard_Deviation_Tumor_Volume,\n",
    "                                \"Std Deviation Weight\":Standard_Deviation_Weight,\n",
    "                                \"Std Deviation Age_Months\":Standard_Deviation_Age_Months,\n",
    "                                \"Std Deviation Metastatic Site\":Standard_Deviation_Metastatic_Sites,\n",
    "                                \"SEM Tumor Volume\":SEM_Tumor_Volume,\n",
    "                                \"SEM Weight\":SEM_Weight,\n",
    "                                \"SEM Age_Months\":SEM_Age_Months,\n",
    "                                \"SEM Metastatic Sites\":SEM_Metastatic_Sites})\n",
    "Summary_Statistic_df\n"
   ]
  },
  {
   "cell_type": "code",
   "execution_count": null,
   "metadata": {},
   "outputs": [],
   "source": []
  },
  {
   "cell_type": "code",
   "execution_count": null,
   "metadata": {},
   "outputs": [],
   "source": []
  },
  {
   "cell_type": "code",
   "execution_count": null,
   "metadata": {},
   "outputs": [],
   "source": [
    "# Generate a summary statistics table of mean, median, variance, standard deviation, and SEM of the tumor volume for each regimen\n",
    "\n",
    "# This method produces everything in a single groupby function\n"
   ]
  },
  {
   "cell_type": "markdown",
   "metadata": {},
   "source": [
    "## Bar and Pie Charts"
   ]
  },
  {
   "cell_type": "code",
   "execution_count": null,
   "metadata": {},
   "outputs": [],
   "source": [
    "# Generate a bar plot showing the total number of mice for each treatment throughout the course of the study using pandas. \n",
    "\n"
   ]
  },
  {
   "cell_type": "code",
   "execution_count": null,
   "metadata": {},
   "outputs": [],
   "source": [
    "# Generate a bar plot showing the total number of mice for each treatment throughout the course of the study using pyplot.\n",
    "\n"
   ]
  },
  {
   "cell_type": "code",
   "execution_count": null,
   "metadata": {},
   "outputs": [],
   "source": [
    "# Generate a pie plot showing the distribution of female versus male mice using pandas\n",
    "\n"
   ]
  },
  {
   "cell_type": "code",
   "execution_count": null,
   "metadata": {},
   "outputs": [],
   "source": [
    "# Generate a pie plot showing the distribution of female versus male mice using pyplot\n",
    "\n"
   ]
  },
  {
   "cell_type": "markdown",
   "metadata": {},
   "source": [
    "## Quartiles, Outliers and Boxplots"
   ]
  },
  {
   "cell_type": "code",
   "execution_count": null,
   "metadata": {},
   "outputs": [],
   "source": [
    "# Calculate the final tumor volume of each mouse across four of the treatment regimens:  \n",
    "# Capomulin, Ramicane, Infubinol, and Ceftamin\n",
    "\n",
    "# Start by getting the last (greatest) timepoint for each mouse\n",
    "\n",
    "\n",
    "# Merge this group df with the original dataframe to get the tumor volume at the last timepoint\n"
   ]
  },
  {
   "cell_type": "code",
   "execution_count": null,
   "metadata": {},
   "outputs": [],
   "source": [
    "# Put treatments into a list for for loop (and later for plot labels)\n",
    "\n",
    "\n",
    "# Create empty list to fill with tumor vol data (for plotting)\n",
    "\n",
    "\n",
    "# Calculate the IQR and quantitatively determine if there are any potential outliers. \n",
    "\n",
    "    \n",
    "    # Locate the rows which contain mice on each drug and get the tumor volumes\n",
    "    \n",
    "    \n",
    "    # add subset \n",
    "    \n",
    "    \n",
    "    # Determine outliers using upper and lower bounds\n",
    "    "
   ]
  },
  {
   "cell_type": "code",
   "execution_count": null,
   "metadata": {},
   "outputs": [],
   "source": [
    "# Generate a box plot of the final tumor volume of each mouse across four regimens of interest\n"
   ]
  },
  {
   "cell_type": "markdown",
   "metadata": {},
   "source": [
    "## Line and Scatter Plots"
   ]
  },
  {
   "cell_type": "code",
   "execution_count": null,
   "metadata": {},
   "outputs": [],
   "source": [
    "# Generate a line plot of time point versus tumor volume for a mouse treated with Capomulin\n"
   ]
  },
  {
   "cell_type": "code",
   "execution_count": null,
   "metadata": {},
   "outputs": [],
   "source": [
    "# Generate a scatter plot of mouse weight versus average tumor volume for the Capomulin regimen\n"
   ]
  },
  {
   "cell_type": "markdown",
   "metadata": {},
   "source": [
    "## Correlation and Regression"
   ]
  },
  {
   "cell_type": "code",
   "execution_count": null,
   "metadata": {},
   "outputs": [],
   "source": [
    "# Calculate the correlation coefficient and linear regression model \n",
    "# for mouse weight and average tumor volume for the Capomulin regimen\n"
   ]
  },
  {
   "cell_type": "code",
   "execution_count": null,
   "metadata": {},
   "outputs": [],
   "source": []
  }
 ],
 "metadata": {
  "anaconda-cloud": {},
  "kernelspec": {
   "display_name": "Python 3",
   "language": "python",
   "name": "python3"
  },
  "language_info": {
   "codemirror_mode": {
    "name": "ipython",
    "version": 3
   },
   "file_extension": ".py",
   "mimetype": "text/x-python",
   "name": "python",
   "nbconvert_exporter": "python",
   "pygments_lexer": "ipython3",
   "version": "3.9.7"
  }
 },
 "nbformat": 4,
 "nbformat_minor": 2
}
